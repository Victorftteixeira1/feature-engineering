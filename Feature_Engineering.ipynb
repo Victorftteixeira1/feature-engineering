{
  "cells": [
    {
      "cell_type": "code",
      "execution_count": null,
      "metadata": {
        "id": "kR_07HhRLgdO"
      },
      "outputs": [],
      "source": [
        "!apt-get install openjdk-8-jdk-headless -qq > /dev/null\n",
        "!wget -q https://archive.apache.org/dist/spark/spark-3.1.2/spark-3.1.2-bin-hadoop3.2.tgz\n",
        "!tar xf spark-3.1.2-bin-hadoop3.2.tgz\n",
        "!pip install -q findspark"
      ]
    },
    {
      "cell_type": "code",
      "execution_count": null,
      "metadata": {
        "id": "BSdvEUS7LiQE"
      },
      "outputs": [],
      "source": [
        "import os\n",
        "os.environ[\"JAVA_HOME\"] = \"/usr/lib/jvm/java-8-openjdk-amd64\"\n",
        "os.environ[\"SPARK_HOME\"] = \"/content/spark-3.1.2-bin-hadoop3.2\"\n"
      ]
    },
    {
      "cell_type": "code",
      "execution_count": null,
      "metadata": {
        "id": "Z1Kdd2x3Lj4X"
      },
      "outputs": [],
      "source": [
        "import findspark\n",
        "findspark.init()\n",
        "from pyspark.sql import SparkSession\n",
        "spark = SparkSession.builder.master(\"local[*]\").getOrCreate()"
      ]
    },
    {
      "cell_type": "code",
      "execution_count": null,
      "metadata": {
        "colab": {
          "base_uri": "https://localhost:8080/"
        },
        "id": "8vgxnoDpLliW",
        "outputId": "3134bebc-9b27-4e0f-d14d-b6eae618b017"
      },
      "outputs": [
        {
          "name": "stdout",
          "output_type": "stream",
          "text": [
            "Mounted at /content/gdrive\n"
          ]
        }
      ],
      "source": [
        "from google.colab import drive\n",
        "drive.mount('/content/gdrive')"
      ]
    },
    {
      "cell_type": "code",
      "execution_count": null,
      "metadata": {
        "id": "j88b0WVuLnDo"
      },
      "outputs": [],
      "source": [
        "POS_CASH = spark.read.csv('/content/gdrive/My Drive/TCC/POS_CASH_balance.csv', header=True, inferSchema=True)\n",
        "POS_CASH.createOrReplaceTempView('POS_CASH')"
      ]
    },
    {
      "cell_type": "code",
      "execution_count": null,
      "metadata": {
        "colab": {
          "base_uri": "https://localhost:8080/"
        },
        "id": "gigr0fMlegoU",
        "outputId": "a628d493-6f2c-4ab4-f9bd-c7dfc8d0c9a7"
      },
      "outputs": [
        {
          "name": "stdout",
          "output_type": "stream",
          "text": [
            "root\n",
            " |-- SK_ID_PREV: integer (nullable = true)\n",
            " |-- SK_ID_CURR: integer (nullable = true)\n",
            " |-- MONTHS_BALANCE: integer (nullable = true)\n",
            " |-- CNT_INSTALMENT: double (nullable = true)\n",
            " |-- CNT_INSTALMENT_FUTURE: double (nullable = true)\n",
            " |-- NAME_CONTRACT_STATUS: string (nullable = true)\n",
            " |-- SK_DPD: integer (nullable = true)\n",
            " |-- SK_DPD_DEF: integer (nullable = true)\n",
            "\n"
          ]
        }
      ],
      "source": [
        "POS_CASH.printSchema()"
      ]
    },
    {
      "cell_type": "code",
      "execution_count": null,
      "metadata": {
        "colab": {
          "base_uri": "https://localhost:8080/"
        },
        "id": "FHlwOM6xiD0-",
        "outputId": "4b896d05-dfaa-4b7c-d8dc-7c5e35d347ef"
      },
      "outputs": [
        {
          "data": {
            "text/plain": [
              "['SK_ID_PREV',\n",
              " 'SK_ID_CURR',\n",
              " 'MONTHS_BALANCE',\n",
              " 'CNT_INSTALMENT',\n",
              " 'CNT_INSTALMENT_FUTURE',\n",
              " 'NAME_CONTRACT_STATUS',\n",
              " 'SK_DPD',\n",
              " 'SK_DPD_DEF']"
            ]
          },
          "execution_count": 7,
          "metadata": {},
          "output_type": "execute_result"
        }
      ],
      "source": [
        "POS_CASH.columns"
      ]
    },
    {
      "cell_type": "code",
      "execution_count": null,
      "metadata": {
        "colab": {
          "base_uri": "https://localhost:8080/"
        },
        "id": "RvWV4B6ZiOd0",
        "outputId": "0d6318d3-3dc8-4d2f-d295-7d571593dd11"
      },
      "outputs": [
        {
          "data": {
            "text/plain": [
              "10001358"
            ]
          },
          "execution_count": 8,
          "metadata": {},
          "output_type": "execute_result"
        }
      ],
      "source": [
        "POS_CASH.count()"
      ]
    },
    {
      "cell_type": "code",
      "execution_count": null,
      "metadata": {
        "colab": {
          "base_uri": "https://localhost:8080/"
        },
        "id": "5CAbRLUqQ67W",
        "outputId": "45545fa6-af25-4768-a85b-6fa34c88b487"
      },
      "outputs": [
        {
          "name": "stdout",
          "output_type": "stream",
          "text": [
            "+----------+----------+--------------+--------------+---------------------+--------------------+------+----------+\n",
            "|SK_ID_PREV|SK_ID_CURR|MONTHS_BALANCE|CNT_INSTALMENT|CNT_INSTALMENT_FUTURE|NAME_CONTRACT_STATUS|SK_DPD|SK_DPD_DEF|\n",
            "+----------+----------+--------------+--------------+---------------------+--------------------+------+----------+\n",
            "|   1803195|    182943|           -31|          48.0|                 45.0|              Active|     0|         0|\n",
            "|   1715348|    367990|           -33|          36.0|                 35.0|              Active|     0|         0|\n",
            "|   1784872|    397406|           -32|          12.0|                  9.0|              Active|     0|         0|\n",
            "|   1903291|    269225|           -35|          48.0|                 42.0|              Active|     0|         0|\n",
            "|   2341044|    334279|           -35|          36.0|                 35.0|              Active|     0|         0|\n",
            "+----------+----------+--------------+--------------+---------------------+--------------------+------+----------+\n",
            "only showing top 5 rows\n",
            "\n"
          ]
        }
      ],
      "source": [
        "POS_CASH.show(5)"
      ]
    },
    {
      "cell_type": "code",
      "execution_count": null,
      "metadata": {
        "colab": {
          "base_uri": "https://localhost:8080/"
        },
        "id": "1Ht2WZa8ilEk",
        "outputId": "d7b6f23a-011d-448b-cd0b-34aefafc56d0"
      },
      "outputs": [
        {
          "name": "stdout",
          "output_type": "stream",
          "text": [
            "+-------+------------------+\n",
            "|summary|            SK_DPD|\n",
            "+-------+------------------+\n",
            "|  count|          10001358|\n",
            "|   mean|11.606928279139693|\n",
            "| stddev| 132.7140434930964|\n",
            "|    min|                 0|\n",
            "|    max|              4231|\n",
            "+-------+------------------+\n",
            "\n"
          ]
        }
      ],
      "source": [
        "POS_CASH.select('SK_DPD').describe().show()"
      ]
    },
    {
      "cell_type": "code",
      "execution_count": null,
      "metadata": {
        "colab": {
          "base_uri": "https://localhost:8080/"
        },
        "id": "OCgZWUKrl-XJ",
        "outputId": "3cc70d89-71b5-4adf-df2a-a15a329342b7"
      },
      "outputs": [
        {
          "name": "stdout",
          "output_type": "stream",
          "text": [
            "    NAME_CONTRACT_STATUS\n",
            "0                 Demand\n",
            "1               Approved\n",
            "2              Completed\n",
            "3         Amortized debt\n",
            "4  Returned to the store\n",
            "5                    XNA\n",
            "6                 Active\n",
            "7                 Signed\n",
            "8               Canceled\n"
          ]
        }
      ],
      "source": [
        "valores_unicos = spark.sql(f\"SELECT DISTINCT {'NAME_CONTRACT_STATUS'} FROM POS_CASH\").toPandas()\n",
        "print(valores_unicos)"
      ]
    },
    {
      "cell_type": "code",
      "execution_count": null,
      "metadata": {
        "id": "PFbzejj8oU5d"
      },
      "outputs": [],
      "source": [
        "#Média de desvio padrão dos dias de atraso e número de parcelas pendentes\n",
        "Pos1 =  spark.sql(\"\"\"\n",
        "SELECT\n",
        "  *,\n",
        "  ROUND(AVG(SK_DPD) OVER (PARTITION BY SK_ID_PREV), 2) AS Media_dias_atraso\n",
        ", ROUND(STDDEV(SK_DPD) OVER (PARTITION BY SK_ID_PREV), 2) AS DesvioP_dias_atraso\n",
        ", CNT_INSTALMENT - CNT_INSTALMENT_FUTURE AS Parcelas_pendentes\n",
        ", COUNT(SK_ID_PREV) OVER (PARTITION BY SK_ID_PREV) AS Num_Transacao\n",
        ", AVG(CASE WHEN SK_DPD > 0 THEN 1 ELSE 0 END) OVER (PARTITION BY SK_ID_PREV) AS Percentual_atraso\n",
        ", MONTHS_BALANCE % 12 AS Mes_no_ano\n",
        ", SK_DPD - LAG(SK_DPD) OVER (PARTITION BY SK_ID_PREV ORDER BY MONTHS_BALANCE) AS Diferenca_meses_atraso\n",
        "FROM POS_CASH\n",
        "\"\"\")\n",
        "Pos1.createOrReplaceTempView('Pos1')"
      ]
    },
    {
      "cell_type": "code",
      "execution_count": null,
      "metadata": {
        "id": "oqrL2oXDti4Y"
      },
      "outputs": [],
      "source": [
        "Pos2 = spark.sql(\"\"\"\n",
        "SELECT\n",
        "    SK_ID_PREV\n",
        ",    MAX(MONTHS_BALANCE) - MIN(MONTHS_BALANCE) + 1 AS Duracao_Relacionamento\n",
        ",    AVG(SK_DPD) AS Media_ultimos_6_meses\n",
        ",    SUM(SK_DPD) AS Soma_ultimos_6_meses\n",
        ",    AVG(SK_DPD) AS Media_anual_atraso\n",
        ",    SUM(SK_DPD) AS Soma_anual_atraso\n",
        ",    SUM(CASE WHEN NAME_CONTRACT_STATUS = 'Demand' THEN 1 ELSE 0 END) AS QTDE_Demanda\n",
        ",    SUM(CASE WHEN NAME_CONTRACT_STATUS = 'Approved' THEN 1 ELSE 0 END) AS QTDE_Aprovado\n",
        ",    SUM(CASE WHEN NAME_CONTRACT_STATUS = 'Completed' THEN 1 ELSE 0 END) AS QTDE_Concluido\n",
        ",    SUM(CASE WHEN NAME_CONTRACT_STATUS = 'Amortized debt' THEN 1 ELSE 0 END) AS Qtde_Amortized\n",
        ",    SUM(CASE WHEN NAME_CONTRACT_STATUS = 'XNA' THEN 1 ELSE 0 END) AS QTDE_Valo_Desconhecido\n",
        ",    SUM(CASE WHEN NAME_CONTRACT_STATUS = 'Active' THEN 1 ELSE 0 END) AS QTDE_Ativo\n",
        ",    SUM(CASE WHEN NAME_CONTRACT_STATUS = 'Signed' THEN 1 ELSE 0 END) AS QTDE_Assinado\n",
        ",    SUM(CASE WHEN NAME_CONTRACT_STATUS = 'Canceled' THEN 1 ELSE 0 END) AS QTDE_Cancelado\n",
        ",    SUM(CASE WHEN NAME_CONTRACT_STATUS = 'Returned to the store' THEN 1 ELSE 0 END) AS QTDE_Devolvido\n",
        "FROM POS_CASH\n",
        "WHERE MONTHS_BALANCE >= -6\n",
        "GROUP BY\n",
        "    SK_ID_PREV, FLOOR(MONTHS_BALANCE / 12)\n",
        "\"\"\")\n",
        "Pos2.createOrReplaceTempView('Pos2')"
      ]
    },
    {
      "cell_type": "code",
      "execution_count": null,
      "metadata": {
        "id": "Nc5F_QNdyDx0"
      },
      "outputs": [],
      "source": [
        "Posfinal = spark.sql(\"\"\"\n",
        "SELECT\n",
        "    Pos1.*,\n",
        "    Pos2.Duracao_Relacionamento,\n",
        "    Pos2.Media_ultimos_6_meses,\n",
        "    Pos2.Soma_ultimos_6_meses,\n",
        "    Pos2.Media_anual_atraso,\n",
        "    Pos2.Soma_anual_atraso,\n",
        "    Pos2.QTDE_Demanda,\n",
        "    Pos2.QTDE_Aprovado,\n",
        "    Pos2.QTDE_Concluido,\n",
        "    Pos2.Qtde_Amortized,\n",
        "    Pos2.QTDE_Valo_Desconhecido,\n",
        "    Pos2.QTDE_Ativo,\n",
        "    Pos2.QTDE_Assinado,\n",
        "    Pos2.QTDE_Cancelado,\n",
        "    Pos2.QTDE_Devolvido\n",
        "FROM Pos1\n",
        "JOIN Pos2\n",
        "ON Pos1.SK_ID_PREV = Pos2.SK_ID_PREV;\"\"\")\n",
        "\n",
        "Posfinal.createOrReplaceTempView('Posfinal')"
      ]
    },
    {
      "cell_type": "code",
      "execution_count": null,
      "metadata": {
        "id": "fb65HDFfo4T5"
      },
      "outputs": [],
      "source": [
        "install = spark.read.csv('/content/gdrive/My Drive/TCC/install.csv', header=True, inferSchema=True)\n",
        "install.createOrReplaceTempView('install')"
      ]
    },
    {
      "cell_type": "code",
      "execution_count": null,
      "metadata": {
        "colab": {
          "base_uri": "https://localhost:8080/"
        },
        "id": "jLdqlKwDrXBM",
        "outputId": "0209ca9c-87a8-4656-ced9-e6d6bce63e70"
      },
      "outputs": [
        {
          "name": "stdout",
          "output_type": "stream",
          "text": [
            "+----------+----------+----------------------+---------------------+---------------+------------------+--------------+-----------+\n",
            "|SK_ID_PREV|SK_ID_CURR|NUM_INSTALMENT_VERSION|NUM_INSTALMENT_NUMBER|DAYS_INSTALMENT|DAYS_ENTRY_PAYMENT|AMT_INSTALMENT|AMT_PAYMENT|\n",
            "+----------+----------+----------------------+---------------------+---------------+------------------+--------------+-----------+\n",
            "|   1054186|    161674|                   1.0|                    6|        -1180.0|           -1187.0|       6948.36|    6948.36|\n",
            "|   1330831|    151639|                   0.0|                   34|        -2156.0|           -2156.0|      1716.525|   1716.525|\n",
            "|   2085231|    193053|                   2.0|                    1|          -63.0|             -63.0|       25425.0|    25425.0|\n",
            "|   2452527|    199697|                   1.0|                    3|        -2418.0|           -2426.0|      24350.13|   24350.13|\n",
            "|   2714724|    167756|                   1.0|                    2|        -1383.0|           -1366.0|       2165.04|   2160.585|\n",
            "|   1137312|    164489|                   1.0|                   12|        -1384.0|           -1417.0|      5970.375|   5970.375|\n",
            "|   2234264|    184693|                   4.0|                   11|         -349.0|            -352.0|     29432.295|  29432.295|\n",
            "|   1818599|    111420|                   2.0|                    4|         -968.0|            -994.0|     17862.165|  17862.165|\n",
            "|   2723183|    112102|                   0.0|                   14|         -197.0|            -197.0|         70.74|      70.74|\n",
            "|   1413990|    109741|                   1.0|                    4|         -570.0|            -609.0|      14308.47|   14308.47|\n",
            "|   1782554|    106597|                   1.0|                    3|         -933.0|            -937.0|     34620.525|  34620.525|\n",
            "|   2558880|    154793|                   1.0|                    8|        -1262.0|           -1269.0|      15031.08|   15031.08|\n",
            "|   1570206|    147645|                   0.0|                   20|         -761.0|            -761.0|         21.51|      21.51|\n",
            "|   1723268|    197273|                   1.0|                   14|         -755.0|            -800.0|       6093.99|    6093.99|\n",
            "|   1594684|    100193|                   0.0|                   56|        -1153.0|           -1153.0|        301.86|     301.86|\n",
            "|   1456258|    118323|                   1.0|                    6|        -2619.0|           -2619.0|      4844.925|   4844.925|\n",
            "|   1053286|    170192|                   1.0|                    7|         -500.0|            -503.0|       6882.84|    6882.84|\n",
            "|   1410565|    197687|                   1.0|                    1|        -1037.0|           -1048.0|      12514.05|   12510.45|\n",
            "|   2391610|    183431|                   0.0|                   20|        -1680.0|           -1693.0|        7875.0|     7875.0|\n",
            "|   2329072|    183463|                   1.0|                   11|        -1699.0|           -1693.0|      7283.295|   7283.295|\n",
            "+----------+----------+----------------------+---------------------+---------------+------------------+--------------+-----------+\n",
            "only showing top 20 rows\n",
            "\n"
          ]
        }
      ],
      "source": [
        "install.show()"
      ]
    },
    {
      "cell_type": "code",
      "execution_count": null,
      "metadata": {
        "id": "YfE-WSMJsLKX"
      },
      "outputs": [],
      "source": [
        "#verificando taxa de pagamento, diferença do valor, pagamento adiantado\n",
        "\n",
        "install1 = spark.sql(\"\"\"\n",
        "Select\n",
        "  SK_ID_PREV\n",
        ", AMT_INSTALMENT\n",
        ", AMT_PAYMENT\n",
        ", (AMT_PAYMENT / AMT_INSTALMENT) * 100 AS Percentual_pago\n",
        ", ABS(AMT_PAYMENT - AMT_INSTALMENT) AS Diferenca_pagamento\n",
        ", CASE WHEN DAYS_ENTRY_PAYMENT < 0 THEN 1 ELSE 0 END AS Pagamento_antecipado\n",
        "FROM install\n",
        "\"\"\")\n",
        "install1.createOrReplaceTempView('install1')"
      ]
    },
    {
      "cell_type": "code",
      "execution_count": null,
      "metadata": {
        "id": "euWMeF3eunTQ"
      },
      "outputs": [],
      "source": [
        "#verificando qtde de versões\n",
        "install12 = spark.sql(\"\"\"\n",
        "SELECT\n",
        "  SK_ID_PREV\n",
        ", COUNT(DISTINCT NUM_INSTALMENT_VERSION) AS Qtde_versoes_contrato\n",
        ", AVG(NUM_INSTALMENT_NUMBER) AS Media_Parcelas_versao\n",
        ", COUNT(NUM_INSTALMENT_NUMBER) AS Numero_parcelas\n",
        ", MAX(NUM_INSTALMENT_NUMBER) - MIN(NUM_INSTALMENT_NUMBER) AS Variacao_parcelas\n",
        "FROM install\n",
        "GROUP BY SK_ID_PREV\n",
        "\"\"\")\n",
        "install12.createTempView('install12')"
      ]
    },
    {
      "cell_type": "code",
      "execution_count": null,
      "metadata": {
        "colab": {
          "background_save": true
        },
        "id": "RZYTwQ6SvZ7X",
        "outputId": "5d953a24-8366-4999-a1fe-ab82b1576ce7"
      },
      "outputs": [
        {
          "name": "stdout",
          "output_type": "stream",
          "text": [
            "+----------+--------------+-----------+------------------+-------------------+--------------------+---------------------+---------------------+---------------+-----------------+\n",
            "|SK_ID_PREV|AMT_INSTALMENT|AMT_PAYMENT|   Percentual_pago|Diferenca_pagamento|Pagamento_antecipado|Qtde_versoes_contrato|Media_Parcelas_versao|Numero_parcelas|Variacao_parcelas|\n",
            "+----------+--------------+-----------+------------------+-------------------+--------------------+---------------------+---------------------+---------------+-----------------+\n",
            "|   1000149|       5108.58|    5108.58|             100.0|                0.0|                   1|                    4|               5.8125|             16|                9|\n",
            "|   1000149|       5108.58|    3426.48| 67.07304182375533|             1682.1|                   1|                    4|               5.8125|             16|                9|\n",
            "|   1000149|     21259.395|  21259.395|             100.0|                0.0|                   1|                    4|               5.8125|             16|                9|\n",
            "|   1000149|       5108.58|    4075.74|  79.7822486875022| 1032.8400000000001|                   1|                    4|               5.8125|             16|                9|\n",
            "|   1000149|     21259.395|  21259.395|             100.0|                0.0|                   1|                    4|               5.8125|             16|                9|\n",
            "|   1000149|       5108.58|     3267.9| 63.96885240125436| 1840.6799999999998|                   1|                    4|               5.8125|             16|                9|\n",
            "|   1000149|       5108.58|     741.42|14.513230682498854|            4367.16|                   1|                    4|               5.8125|             16|                9|\n",
            "|   1000149|       5108.58|    1032.84|20.217751312497796|            4075.74|                   1|                    4|               5.8125|             16|                9|\n",
            "|   1000149|       5108.58|    4367.16| 85.48676931750114|  741.4200000000001|                   1|                    4|               5.8125|             16|                9|\n",
            "|   1000149|       5108.58|    1549.26|30.326626968746695| 3559.3199999999997|                   1|                    4|               5.8125|             16|                9|\n",
            "|   1000149|       5108.58|     1682.1| 32.92695817624467|            3426.48|                   1|                    4|               5.8125|             16|                9|\n",
            "|   1000149|       5108.58|    1840.68| 36.03114759874565| 3267.8999999999996|                   1|                    4|               5.8125|             16|                9|\n",
            "|   1000149|     157772.16| 179031.555|113.47474421342775|  21259.39499999999|                   1|                    4|               5.8125|             16|                9|\n",
            "|   1000149|     21259.395| 179031.555| 842.1291151512072|          157772.16|                   1|                    4|               5.8125|             16|                9|\n",
            "|   1000149|     36929.835|  36929.835|             100.0|                0.0|                   1|                    4|               5.8125|             16|                9|\n",
            "|   1000149|       5108.58|    3559.32|  69.6733730312533| 1549.2599999999998|                   1|                    4|               5.8125|             16|                9|\n",
            "|   1000190|     1049616.0|  1125000.0|107.18205515159829|            75384.0|                   1|                    4|    4.222222222222222|              9|                7|\n",
            "|   1000190|       75384.0|  1125000.0|1492.3591212989495|          1049616.0|                   1|                    4|    4.222222222222222|              9|                7|\n",
            "|   1000190|       12852.0|    12852.0|             100.0|                0.0|                   1|                    4|    4.222222222222222|              9|                7|\n",
            "|   1000190|       12852.0|    12852.0|             100.0|                0.0|                   1|                    4|    4.222222222222222|              9|                7|\n",
            "+----------+--------------+-----------+------------------+-------------------+--------------------+---------------------+---------------------+---------------+-----------------+\n",
            "only showing top 20 rows\n",
            "\n"
          ]
        },
        {
          "ename": "AttributeError",
          "evalue": "ignored",
          "output_type": "error",
          "traceback": [
            "\u001b[0;31m---------------------------------------------------------------------------\u001b[0m",
            "\u001b[0;31mAttributeError\u001b[0m                            Traceback (most recent call last)",
            "\u001b[0;32m<ipython-input-19-2206eecb20cf>\u001b[0m in \u001b[0;36m<cell line: 11>\u001b[0;34m()\u001b[0m\n\u001b[1;32m      9\u001b[0m \u001b[0mINNER\u001b[0m \u001b[0mJOIN\u001b[0m \u001b[0minstall12\u001b[0m \u001b[0mON\u001b[0m \u001b[0minstall1\u001b[0m\u001b[0;34m.\u001b[0m\u001b[0mSK_ID_PREV\u001b[0m \u001b[0;34m=\u001b[0m \u001b[0minstall12\u001b[0m\u001b[0;34m.\u001b[0m\u001b[0mSK_ID_PREV\u001b[0m\u001b[0;34m\u001b[0m\u001b[0;34m\u001b[0m\u001b[0m\n\u001b[1;32m     10\u001b[0m \"\"\").show()\n\u001b[0;32m---> 11\u001b[0;31m \u001b[0minstallfinal\u001b[0m\u001b[0;34m.\u001b[0m\u001b[0mcreateOrReplaceTempView\u001b[0m\u001b[0;34m(\u001b[0m\u001b[0;34m'installfinal'\u001b[0m\u001b[0;34m)\u001b[0m\u001b[0;34m\u001b[0m\u001b[0;34m\u001b[0m\u001b[0m\n\u001b[0m",
            "\u001b[0;31mAttributeError\u001b[0m: 'NoneType' object has no attribute 'createOrReplaceTempView'"
          ]
        }
      ],
      "source": [
        "installfinal = spark.sql(\"\"\"\n",
        "SELECT\n",
        "    install1.*,\n",
        "    install12.Qtde_versoes_contrato,\n",
        "    install12.Media_Parcelas_versao,\n",
        "    install12.Numero_parcelas,\n",
        "    install12.Variacao_parcelas\n",
        "FROM install1\n",
        "INNER JOIN install12 ON install1.SK_ID_PREV = install12.SK_ID_PREV\n",
        "\"\"\").show()\n",
        "installfinal.createOrReplaceTempView('installfinal')"
      ]
    },
    {
      "cell_type": "code",
      "execution_count": null,
      "metadata": {
        "colab": {
          "background_save": true
        },
        "id": "ZT7Ht7hk6M-b"
      },
      "outputs": [],
      "source": [
        "Pos_Install = spark.sql(\"\"\"\n",
        "SELECT\n",
        "  Posfinal.*\n",
        ", installfinal.*\n",
        "\n",
        "from Posfinal\n",
        "INNER JOIN installfinal ON Posfinal.SK_ID_PREV = installfinal.SK_ID_PREV\n",
        "\n",
        "\"\"\")\n",
        "\n",
        "Pos_Install.createOrReplaceTempView('Pos_Install')"
      ]
    },
    {
      "cell_type": "code",
      "execution_count": null,
      "metadata": {
        "colab": {
          "background_save": true
        },
        "id": "374AZJ1v_87H"
      },
      "outputs": [],
      "source": [
        "Pos_Install.show()"
      ]
    },
    {
      "cell_type": "code",
      "execution_count": null,
      "metadata": {
        "colab": {
          "background_save": true
        },
        "id": "FFAsLraa_WnG"
      },
      "outputs": [],
      "source": [
        "Pos_Install = spark.sql(\"\"\"\n",
        "SELECT\n",
        "    Posfinal.*,\n",
        "    installfinal.*\n",
        "FROM Posfinal\n",
        "INNER JOIN installfinal ON Posfinal.SK_ID_PREV = installfinal.SK_ID_PREV\n",
        "\"\"\")"
      ]
    }
  ],
  "metadata": {
    "colab": {
      "provenance": []
    },
    "kernelspec": {
      "display_name": "Python 3",
      "name": "python3"
    },
    "language_info": {
      "name": "python"
    }
  },
  "nbformat": 4,
  "nbformat_minor": 0
}